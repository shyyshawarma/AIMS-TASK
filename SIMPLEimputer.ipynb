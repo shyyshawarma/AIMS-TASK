{
 "cells": [
  {
   "cell_type": "code",
   "execution_count": 54,
   "id": "2a9dea25-03ce-4dd6-bb08-1a1fc0f528ac",
   "metadata": {},
   "outputs": [],
   "source": [
    "import pandas as pd\n",
    "import numpy as np\n",
    "import math as m"
   ]
  },
  {
   "cell_type": "code",
   "execution_count": 55,
   "id": "3c5c89e0-f4af-43bd-94b2-d72869f439bb",
   "metadata": {},
   "outputs": [],
   "source": [
    "data = {\n",
    "    'Name': ['Abhinav', 'Abhijai', 'Aarushi', 'Aadarsh', 'Arnav','Aeikansh','Hemang','Hemant'],\n",
    "    'Age':[24, 21, 22, 27, 29,12,32,54],\n",
    "    'Gender' : [\"M\", \"M\", \"F\",\"M\",\"M\",\"M\",\"M\" ,\"M\"],\n",
    "    'Score': [85.0, np.nan, 99, 88.0, 76.5,34,79,90],\n",
    "    'Highmarks':[99,np.nan,94,np.nan,97,np.nan,np.nan,np.nan]\n",
    "}\n",
    "\n",
    "\n",
    "\n",
    "\n"
   ]
  },
  {
   "cell_type": "code",
   "execution_count": 56,
   "id": "4e0a256b-1ec7-46e4-9156-bdd787b94e7f",
   "metadata": {},
   "outputs": [],
   "source": [
    "d=pd.DataFrame(data)"
   ]
  },
  {
   "cell_type": "code",
   "execution_count": 57,
   "id": "0365945c-7667-4dd5-8828-f8a11bd3d28a",
   "metadata": {},
   "outputs": [
    {
     "data": {
      "text/html": [
       "<div>\n",
       "<style scoped>\n",
       "    .dataframe tbody tr th:only-of-type {\n",
       "        vertical-align: middle;\n",
       "    }\n",
       "\n",
       "    .dataframe tbody tr th {\n",
       "        vertical-align: top;\n",
       "    }\n",
       "\n",
       "    .dataframe thead th {\n",
       "        text-align: right;\n",
       "    }\n",
       "</style>\n",
       "<table border=\"1\" class=\"dataframe\">\n",
       "  <thead>\n",
       "    <tr style=\"text-align: right;\">\n",
       "      <th></th>\n",
       "      <th>Name</th>\n",
       "      <th>Age</th>\n",
       "      <th>Gender</th>\n",
       "      <th>Score</th>\n",
       "      <th>Highmarks</th>\n",
       "    </tr>\n",
       "  </thead>\n",
       "  <tbody>\n",
       "    <tr>\n",
       "      <th>0</th>\n",
       "      <td>Abhinav</td>\n",
       "      <td>24</td>\n",
       "      <td>M</td>\n",
       "      <td>85.0</td>\n",
       "      <td>99.0</td>\n",
       "    </tr>\n",
       "    <tr>\n",
       "      <th>1</th>\n",
       "      <td>Abhijai</td>\n",
       "      <td>21</td>\n",
       "      <td>M</td>\n",
       "      <td>NaN</td>\n",
       "      <td>NaN</td>\n",
       "    </tr>\n",
       "    <tr>\n",
       "      <th>2</th>\n",
       "      <td>Aarushi</td>\n",
       "      <td>22</td>\n",
       "      <td>F</td>\n",
       "      <td>99.0</td>\n",
       "      <td>94.0</td>\n",
       "    </tr>\n",
       "    <tr>\n",
       "      <th>3</th>\n",
       "      <td>Aadarsh</td>\n",
       "      <td>27</td>\n",
       "      <td>M</td>\n",
       "      <td>88.0</td>\n",
       "      <td>NaN</td>\n",
       "    </tr>\n",
       "    <tr>\n",
       "      <th>4</th>\n",
       "      <td>Arnav</td>\n",
       "      <td>29</td>\n",
       "      <td>M</td>\n",
       "      <td>76.5</td>\n",
       "      <td>97.0</td>\n",
       "    </tr>\n",
       "    <tr>\n",
       "      <th>5</th>\n",
       "      <td>Aeikansh</td>\n",
       "      <td>12</td>\n",
       "      <td>M</td>\n",
       "      <td>34.0</td>\n",
       "      <td>NaN</td>\n",
       "    </tr>\n",
       "    <tr>\n",
       "      <th>6</th>\n",
       "      <td>Hemang</td>\n",
       "      <td>32</td>\n",
       "      <td>M</td>\n",
       "      <td>79.0</td>\n",
       "      <td>NaN</td>\n",
       "    </tr>\n",
       "    <tr>\n",
       "      <th>7</th>\n",
       "      <td>Hemant</td>\n",
       "      <td>54</td>\n",
       "      <td>M</td>\n",
       "      <td>90.0</td>\n",
       "      <td>NaN</td>\n",
       "    </tr>\n",
       "  </tbody>\n",
       "</table>\n",
       "</div>"
      ],
      "text/plain": [
       "       Name  Age Gender  Score  Highmarks\n",
       "0   Abhinav   24      M   85.0       99.0\n",
       "1   Abhijai   21      M    NaN        NaN\n",
       "2   Aarushi   22      F   99.0       94.0\n",
       "3   Aadarsh   27      M   88.0        NaN\n",
       "4     Arnav   29      M   76.5       97.0\n",
       "5  Aeikansh   12      M   34.0        NaN\n",
       "6    Hemang   32      M   79.0        NaN\n",
       "7    Hemant   54      M   90.0        NaN"
      ]
     },
     "execution_count": 57,
     "metadata": {},
     "output_type": "execute_result"
    }
   ],
   "source": [
    "d"
   ]
  },
  {
   "cell_type": "code",
   "execution_count": 58,
   "id": "0967094c-ce0d-4948-9681-c2b3bb9ea7e7",
   "metadata": {},
   "outputs": [],
   "source": [
    "features=d.columns\n",
    "    "
   ]
  },
  {
   "cell_type": "raw",
   "id": "9ee8e22c-7fc8-4521-aaf5-6762d726da19",
   "metadata": {},
   "source": [
    "features"
   ]
  },
  {
   "cell_type": "code",
   "execution_count": 59,
   "id": "6de12cf8-ea81-453a-ad77-b44415213e2d",
   "metadata": {},
   "outputs": [
    {
     "data": {
      "text/plain": [
       "Index(['Name', 'Age', 'Gender', 'Score', 'Highmarks'], dtype='object')"
      ]
     },
     "execution_count": 59,
     "metadata": {},
     "output_type": "execute_result"
    }
   ],
   "source": [
    "features"
   ]
  },
  {
   "cell_type": "code",
   "execution_count": 60,
   "id": "9853b49a-dcae-49a1-b03f-4004f7808644",
   "metadata": {},
   "outputs": [],
   "source": [
    "count=0;\n",
    "\n",
    "cols_with_missing = [col for col in d.columns\n",
    "                     if d[col].isnull().any()]\n",
    "\n",
    "    "
   ]
  },
  {
   "cell_type": "code",
   "execution_count": 61,
   "id": "557fd531-bcb9-43ea-8fd5-151e58a8b7c7",
   "metadata": {},
   "outputs": [
    {
     "data": {
      "text/plain": [
       "['Score', 'Highmarks']"
      ]
     },
     "execution_count": 61,
     "metadata": {},
     "output_type": "execute_result"
    }
   ],
   "source": [
    "cols_with_missing"
   ]
  },
  {
   "cell_type": "code",
   "execution_count": 86,
   "id": "562804d0-a167-4b01-ae07-9b8ed16728ea",
   "metadata": {},
   "outputs": [],
   "source": [
    "def simpleimputer(column):\n",
    "    imputed=column.mean()\n",
    "    return column.fillna(imputed)\n"
   ]
  },
  {
   "cell_type": "code",
   "execution_count": 87,
   "id": "dc8f3bb5-5b05-484b-aa9f-5f88201c1ecc",
   "metadata": {},
   "outputs": [],
   "source": [
    "for i in cols_with_missing:\n",
    "    d[i]=simpleimputer(d[i])"
   ]
  },
  {
   "cell_type": "code",
   "execution_count": 88,
   "id": "bc30553c-ddba-4b36-b3af-2c476d3cd2b8",
   "metadata": {},
   "outputs": [
    {
     "data": {
      "text/html": [
       "<div>\n",
       "<style scoped>\n",
       "    .dataframe tbody tr th:only-of-type {\n",
       "        vertical-align: middle;\n",
       "    }\n",
       "\n",
       "    .dataframe tbody tr th {\n",
       "        vertical-align: top;\n",
       "    }\n",
       "\n",
       "    .dataframe thead th {\n",
       "        text-align: right;\n",
       "    }\n",
       "</style>\n",
       "<table border=\"1\" class=\"dataframe\">\n",
       "  <thead>\n",
       "    <tr style=\"text-align: right;\">\n",
       "      <th></th>\n",
       "      <th>Name</th>\n",
       "      <th>Age</th>\n",
       "      <th>Gender</th>\n",
       "      <th>Score</th>\n",
       "      <th>Highmarks</th>\n",
       "    </tr>\n",
       "  </thead>\n",
       "  <tbody>\n",
       "    <tr>\n",
       "      <th>0</th>\n",
       "      <td>Abhinav</td>\n",
       "      <td>24</td>\n",
       "      <td>M</td>\n",
       "      <td>85.000000</td>\n",
       "      <td>99.000000</td>\n",
       "    </tr>\n",
       "    <tr>\n",
       "      <th>1</th>\n",
       "      <td>Abhijai</td>\n",
       "      <td>21</td>\n",
       "      <td>M</td>\n",
       "      <td>78.785714</td>\n",
       "      <td>96.666667</td>\n",
       "    </tr>\n",
       "    <tr>\n",
       "      <th>2</th>\n",
       "      <td>Aarushi</td>\n",
       "      <td>22</td>\n",
       "      <td>F</td>\n",
       "      <td>99.000000</td>\n",
       "      <td>94.000000</td>\n",
       "    </tr>\n",
       "    <tr>\n",
       "      <th>3</th>\n",
       "      <td>Aadarsh</td>\n",
       "      <td>27</td>\n",
       "      <td>M</td>\n",
       "      <td>88.000000</td>\n",
       "      <td>96.666667</td>\n",
       "    </tr>\n",
       "    <tr>\n",
       "      <th>4</th>\n",
       "      <td>Arnav</td>\n",
       "      <td>29</td>\n",
       "      <td>M</td>\n",
       "      <td>76.500000</td>\n",
       "      <td>97.000000</td>\n",
       "    </tr>\n",
       "    <tr>\n",
       "      <th>5</th>\n",
       "      <td>Aeikansh</td>\n",
       "      <td>12</td>\n",
       "      <td>M</td>\n",
       "      <td>34.000000</td>\n",
       "      <td>96.666667</td>\n",
       "    </tr>\n",
       "    <tr>\n",
       "      <th>6</th>\n",
       "      <td>Hemang</td>\n",
       "      <td>32</td>\n",
       "      <td>M</td>\n",
       "      <td>79.000000</td>\n",
       "      <td>96.666667</td>\n",
       "    </tr>\n",
       "    <tr>\n",
       "      <th>7</th>\n",
       "      <td>Hemant</td>\n",
       "      <td>54</td>\n",
       "      <td>M</td>\n",
       "      <td>90.000000</td>\n",
       "      <td>96.666667</td>\n",
       "    </tr>\n",
       "  </tbody>\n",
       "</table>\n",
       "</div>"
      ],
      "text/plain": [
       "       Name  Age Gender      Score  Highmarks\n",
       "0   Abhinav   24      M  85.000000  99.000000\n",
       "1   Abhijai   21      M  78.785714  96.666667\n",
       "2   Aarushi   22      F  99.000000  94.000000\n",
       "3   Aadarsh   27      M  88.000000  96.666667\n",
       "4     Arnav   29      M  76.500000  97.000000\n",
       "5  Aeikansh   12      M  34.000000  96.666667\n",
       "6    Hemang   32      M  79.000000  96.666667\n",
       "7    Hemant   54      M  90.000000  96.666667"
      ]
     },
     "execution_count": 88,
     "metadata": {},
     "output_type": "execute_result"
    }
   ],
   "source": [
    "d"
   ]
  },
  {
   "cell_type": "code",
   "execution_count": null,
   "id": "d7e3ad7c-4b34-4b04-b003-99e0adf88c18",
   "metadata": {},
   "outputs": [],
   "source": []
  }
 ],
 "metadata": {
  "kernelspec": {
   "display_name": "Python 3 (ipykernel)",
   "language": "python",
   "name": "python3"
  },
  "language_info": {
   "codemirror_mode": {
    "name": "ipython",
    "version": 3
   },
   "file_extension": ".py",
   "mimetype": "text/x-python",
   "name": "python",
   "nbconvert_exporter": "python",
   "pygments_lexer": "ipython3",
   "version": "3.12.6"
  }
 },
 "nbformat": 4,
 "nbformat_minor": 5
}
